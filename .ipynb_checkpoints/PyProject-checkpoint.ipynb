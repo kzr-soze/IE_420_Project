{
 "cells": [
  {
   "cell_type": "code",
   "execution_count": 37,
   "metadata": {
    "collapsed": false
   },
   "outputs": [],
   "source": [
    "import numpy as np\n",
    "import time\n",
    "\n",
    "# EuropeanCRR\n",
    "def EuropeanCRR(f,p,r,delta,u,d):\n",
    "    N = f.shape[0]-1\n",
    "    \n",
    "    for i in range(N):  # Iterate over N backwards time steps\n",
    "        temp = N-1-i\n",
    "        for j in range(temp): # Update f for a new backwards time step\n",
    "            f[j] = np.exp((-r*delta) * (p*f[j] + (1-p)*f[j+1]))\n",
    "        \n",
    "        print f\n",
    "            \n",
    "            \n",
    "    return f[0]\n",
    "\n",
    "# AmericanCRR\n",
    "def AmericanCRR(f,p,r,delta,u,d,K,S0,OpType):\n",
    "    N = f.shape[0]-1\n",
    "    \n",
    "    # OpType = 1 => Put\n",
    "    \n",
    "    for i in range(N):  # Iterate over N backwards time steps\n",
    "        temp = N-1-i\n",
    "        for j in range(temp): # Update f for a new backwards time step\n",
    "            s = OpType * (K - S0*(d**(j))*(u**(i-j)))\n",
    "            f[j] = np.max(np.exp((-r*delta) * (p*f[j] + (1-p)*f[j+1])),s)\n",
    "            \n",
    "            \n",
    "    return f[0]\n",
    "\n",
    "# Binomial\n",
    "def Binomial(Option,K,T,S0,sigma,r,q,N,Exercise):\n",
    "    start_time = time.time()\n",
    "    \n",
    "    #Parameters\n",
    "    delta = float(T)/float(N)\n",
    "    u = np.exp(sigma*np.sqrt(delta))\n",
    "    d = np.exp(-sigma*np.sqrt(delta))\n",
    "    print (u,d)\n",
    "    p = float(np.exp((r-q)*delta)-d)/float(u-d)\n",
    "    \n",
    "    OpType = 1         # Option is a put \n",
    "    if (Option=='C'):\n",
    "        OpType = -1    # Option is a call\n",
    "    \n",
    "    fN = np.zeros(N+1)\n",
    "    \n",
    "    for i in range(N+1):\n",
    "        t = (OpType * (K - (u**(N-i) * d**(i) * S0)))\n",
    "        fN[i] = max(0,t)\n",
    "    \n",
    "    print fN\n",
    "        \n",
    "    if (Exercise == 'E'):\n",
    "        price = EuropeanCRR(fN,p,r,delta,u,d)\n",
    "    else:\n",
    "        price = AmericanCRR(fN,p,r,delta,u,d,K,S0,OpType)\n",
    "    \n",
    "    return (price,(time.time()-start_time))\n",
    "    \n",
    "    \n",
    "    "
   ]
  },
  {
   "cell_type": "code",
   "execution_count": 38,
   "metadata": {
    "collapsed": false
   },
   "outputs": [
    {
     "name": "stdout",
     "output_type": "stream",
     "text": [
      "(1.0202013400267558, 0.98019867330675525)\n",
      "[ 638.90560989  609.93270652  582.09584693  555.35048622  529.6538261\n",
      "  504.96474644  481.24373944  458.45284643  436.55559711  415.51695122\n",
      "  395.30324244  375.88212451  357.22251951  339.29456809  322.0695817\n",
      "  305.51999668  289.61933018  274.34213773  259.66397256  245.56134648\n",
      "  232.01169227  218.99332761  206.48542033  194.46795511  182.92170144\n",
      "  171.82818285  161.16964734  150.92903899  141.08997064  131.63669768\n",
      "  122.55409285  113.82762205  105.44332106   97.38777322   89.64808793\n",
      "   82.21188004   75.06725003   68.20276497   61.60744022   55.27072185\n",
      "   49.18246976   43.33294146   37.71277643   32.31298123   27.12491503\n",
      "   22.14027582   17.3510871    12.74968516    8.32870677    4.08107742\n",
      "    0.            0.            0.            0.            0.            0.\n",
      "    0.            0.            0.            0.            0.            0.\n",
      "    0.            0.            0.            0.            0.            0.\n",
      "    0.            0.            0.            0.            0.            0.\n",
      "    0.            0.            0.            0.            0.            0.\n",
      "    0.            0.            0.            0.            0.            0.\n",
      "    0.            0.            0.            0.            0.            0.\n",
      "    0.            0.            0.            0.            0.            0.\n",
      "    0.            0.            0.        ]\n",
      "(0.99950037466699182, 0.017999887466430664)\n"
     ]
    }
   ],
   "source": [
    "import numpy as np\n",
    "\n",
    "f = (np.zeros(5)+1)/2\n",
    "\n",
    "Option = 'C'\n",
    "K = 100\n",
    "T = 1\n",
    "S0 = 100\n",
    "r = 0.05\n",
    "q = 0.04\n",
    "sigma = 0.2\n",
    "N = 100\n",
    "Exercise = 'E'\n",
    "\n",
    "ans = Binomial(Option,K,T,S0,sigma,r,q,N,Exercise)\n",
    "\n",
    "print ans\n"
   ]
  },
  {
   "cell_type": "code",
   "execution_count": null,
   "metadata": {
    "collapsed": true
   },
   "outputs": [],
   "source": []
  }
 ],
 "metadata": {
  "anaconda-cloud": {},
  "kernelspec": {
   "display_name": "Python [conda root]",
   "language": "python",
   "name": "conda-root-py"
  },
  "language_info": {
   "codemirror_mode": {
    "name": "ipython",
    "version": 2
   },
   "file_extension": ".py",
   "mimetype": "text/x-python",
   "name": "python",
   "nbconvert_exporter": "python",
   "pygments_lexer": "ipython2",
   "version": "2.7.12"
  }
 },
 "nbformat": 4,
 "nbformat_minor": 1
}
