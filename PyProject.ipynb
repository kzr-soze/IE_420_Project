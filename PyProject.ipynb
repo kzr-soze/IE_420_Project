{
 "cells": [
  {
   "cell_type": "code",
   "execution_count": 7,
   "metadata": {
    "collapsed": false
   },
   "outputs": [],
   "source": [
    "import numpy as np\n",
    "import time\n",
    "\n",
    "# EuropeanCRR\n",
    "def EuropeanCRR(f,p,r,delta,u,d):\n",
    "    N = f.shape[0]-1\n",
    "    \n",
    "    for i in range(N):  # Iterate over N backwards time steps\n",
    "        temp = N-i\n",
    "        for j in range(temp): # Update f for a new backwards time step\n",
    "            f[j] = np.exp((-r*delta)) * (p*f[j] + (1-p)*f[j+1])            \n",
    "            \n",
    "    return f[0]\n",
    "\n",
    "# AmericanCRR\n",
    "def AmericanCRR(f,p,r,delta,u,d,K,S0,OpType):\n",
    "    N = f.shape[0]-1\n",
    "    \n",
    "    # OpType = 1 => Put\n",
    "    \n",
    "    for i in range(N):  # Iterate over N backwards time steps\n",
    "        temp = N-i\n",
    "        for j in range(temp): # Update f for a new backwards time step\n",
    "            s = OpType * (K - S0*(d**(j))*(u**(i-j)))\n",
    "            f[j] = np.max(np.exp((-r*delta)) * (p*f[j] + (1-p)*f[j+1]),s)\n",
    "            \n",
    "            \n",
    "    return f[0]\n",
    "\n",
    "# Binomial\n",
    "def Binomial(Option,K,T,S0,sigma,r,q,N,Exercise):\n",
    "    start_time = time.time()\n",
    "    \n",
    "    #Parameters\n",
    "    delta = float(T)/float(N)\n",
    "    u = np.exp(sigma*np.sqrt(delta))\n",
    "    d = np.exp(-sigma*np.sqrt(delta))\n",
    "    p = (np.exp((r-q)*delta)-d)/(u-d)   \n",
    "    \n",
    "    OpType = 1         # Option is a put \n",
    "    if (Option=='C'):\n",
    "        OpType = -1    # Option is a call\n",
    "    \n",
    "    fN = np.zeros(N+1)\n",
    "    \n",
    "    for i in range(N+1):\n",
    "        t = (OpType * (K - (u**(N-i) * d**(i) * S0)))\n",
    "        fN[i] = max(0,t)\n",
    "        \n",
    "    if (Exercise == 'E'):\n",
    "        price = EuropeanCRR(fN,p,r,delta,u,d)\n",
    "    else:\n",
    "        price = AmericanCRR(fN,p,r,delta,u,d,K,S0,OpType)\n",
    "    \n",
    "    return (price,(time.time()-start_time))\n",
    "    \n",
    "    \n",
    "    "
   ]
  },
  {
   "cell_type": "code",
   "execution_count": 8,
   "metadata": {
    "collapsed": false
   },
   "outputs": [
    {
     "ename": "KeyboardInterrupt",
     "evalue": "",
     "output_type": "error",
     "traceback": [
      "\u001b[0;31m\u001b[0m",
      "\u001b[0;31mKeyboardInterrupt\u001b[0mTraceback (most recent call last)",
      "\u001b[0;32m<ipython-input-8-92c179bbc708>\u001b[0m in \u001b[0;36m<module>\u001b[0;34m()\u001b[0m\n\u001b[1;32m     11\u001b[0m \u001b[0mExercise\u001b[0m \u001b[1;33m=\u001b[0m \u001b[1;34m'E'\u001b[0m\u001b[1;33m\u001b[0m\u001b[0m\n\u001b[1;32m     12\u001b[0m \u001b[1;33m\u001b[0m\u001b[0m\n\u001b[0;32m---> 13\u001b[0;31m \u001b[0mans\u001b[0m \u001b[1;33m=\u001b[0m \u001b[0mBinomial\u001b[0m\u001b[1;33m(\u001b[0m\u001b[0mOption\u001b[0m\u001b[1;33m,\u001b[0m\u001b[0mK\u001b[0m\u001b[1;33m,\u001b[0m\u001b[0mT\u001b[0m\u001b[1;33m,\u001b[0m\u001b[0mS0\u001b[0m\u001b[1;33m,\u001b[0m\u001b[0msigma\u001b[0m\u001b[1;33m,\u001b[0m\u001b[0mr\u001b[0m\u001b[1;33m,\u001b[0m\u001b[0mq\u001b[0m\u001b[1;33m,\u001b[0m\u001b[0mN\u001b[0m\u001b[1;33m,\u001b[0m\u001b[0mExercise\u001b[0m\u001b[1;33m)\u001b[0m\u001b[1;33m\u001b[0m\u001b[0m\n\u001b[0m\u001b[1;32m     14\u001b[0m \u001b[1;33m\u001b[0m\u001b[0m\n\u001b[1;32m     15\u001b[0m \u001b[1;32mprint\u001b[0m \u001b[0mans\u001b[0m\u001b[1;33m\u001b[0m\u001b[0m\n",
      "\u001b[0;32m<ipython-input-7-f1e98f195061>\u001b[0m in \u001b[0;36mBinomial\u001b[0;34m(Option, K, T, S0, sigma, r, q, N, Exercise)\u001b[0m\n\u001b[1;32m     49\u001b[0m \u001b[1;33m\u001b[0m\u001b[0m\n\u001b[1;32m     50\u001b[0m     \u001b[1;32mif\u001b[0m \u001b[1;33m(\u001b[0m\u001b[0mExercise\u001b[0m \u001b[1;33m==\u001b[0m \u001b[1;34m'E'\u001b[0m\u001b[1;33m)\u001b[0m\u001b[1;33m:\u001b[0m\u001b[1;33m\u001b[0m\u001b[0m\n\u001b[0;32m---> 51\u001b[0;31m         \u001b[0mprice\u001b[0m \u001b[1;33m=\u001b[0m \u001b[0mEuropeanCRR\u001b[0m\u001b[1;33m(\u001b[0m\u001b[0mfN\u001b[0m\u001b[1;33m,\u001b[0m\u001b[0mp\u001b[0m\u001b[1;33m,\u001b[0m\u001b[0mr\u001b[0m\u001b[1;33m,\u001b[0m\u001b[0mdelta\u001b[0m\u001b[1;33m,\u001b[0m\u001b[0mu\u001b[0m\u001b[1;33m,\u001b[0m\u001b[0md\u001b[0m\u001b[1;33m)\u001b[0m\u001b[1;33m\u001b[0m\u001b[0m\n\u001b[0m\u001b[1;32m     52\u001b[0m     \u001b[1;32melse\u001b[0m\u001b[1;33m:\u001b[0m\u001b[1;33m\u001b[0m\u001b[0m\n\u001b[1;32m     53\u001b[0m         \u001b[0mprice\u001b[0m \u001b[1;33m=\u001b[0m \u001b[0mAmericanCRR\u001b[0m\u001b[1;33m(\u001b[0m\u001b[0mfN\u001b[0m\u001b[1;33m,\u001b[0m\u001b[0mp\u001b[0m\u001b[1;33m,\u001b[0m\u001b[0mr\u001b[0m\u001b[1;33m,\u001b[0m\u001b[0mdelta\u001b[0m\u001b[1;33m,\u001b[0m\u001b[0mu\u001b[0m\u001b[1;33m,\u001b[0m\u001b[0md\u001b[0m\u001b[1;33m,\u001b[0m\u001b[0mK\u001b[0m\u001b[1;33m,\u001b[0m\u001b[0mS0\u001b[0m\u001b[1;33m,\u001b[0m\u001b[0mOpType\u001b[0m\u001b[1;33m)\u001b[0m\u001b[1;33m\u001b[0m\u001b[0m\n",
      "\u001b[0;32m<ipython-input-7-f1e98f195061>\u001b[0m in \u001b[0;36mEuropeanCRR\u001b[0;34m(f, p, r, delta, u, d)\u001b[0m\n\u001b[1;32m      9\u001b[0m         \u001b[0mtemp\u001b[0m \u001b[1;33m=\u001b[0m \u001b[0mN\u001b[0m\u001b[1;33m-\u001b[0m\u001b[0mi\u001b[0m\u001b[1;33m\u001b[0m\u001b[0m\n\u001b[1;32m     10\u001b[0m         \u001b[1;32mfor\u001b[0m \u001b[0mj\u001b[0m \u001b[1;32min\u001b[0m \u001b[0mrange\u001b[0m\u001b[1;33m(\u001b[0m\u001b[0mtemp\u001b[0m\u001b[1;33m)\u001b[0m\u001b[1;33m:\u001b[0m \u001b[1;31m# Update f for a new backwards time step\u001b[0m\u001b[1;33m\u001b[0m\u001b[0m\n\u001b[0;32m---> 11\u001b[0;31m             \u001b[0mf\u001b[0m\u001b[1;33m[\u001b[0m\u001b[0mj\u001b[0m\u001b[1;33m]\u001b[0m \u001b[1;33m=\u001b[0m \u001b[0mnp\u001b[0m\u001b[1;33m.\u001b[0m\u001b[0mexp\u001b[0m\u001b[1;33m(\u001b[0m\u001b[1;33m(\u001b[0m\u001b[1;33m-\u001b[0m\u001b[0mr\u001b[0m\u001b[1;33m*\u001b[0m\u001b[0mdelta\u001b[0m\u001b[1;33m)\u001b[0m\u001b[1;33m)\u001b[0m \u001b[1;33m*\u001b[0m \u001b[1;33m(\u001b[0m\u001b[0mp\u001b[0m\u001b[1;33m*\u001b[0m\u001b[0mf\u001b[0m\u001b[1;33m[\u001b[0m\u001b[0mj\u001b[0m\u001b[1;33m]\u001b[0m \u001b[1;33m+\u001b[0m \u001b[1;33m(\u001b[0m\u001b[1;36m1\u001b[0m\u001b[1;33m-\u001b[0m\u001b[0mp\u001b[0m\u001b[1;33m)\u001b[0m\u001b[1;33m*\u001b[0m\u001b[0mf\u001b[0m\u001b[1;33m[\u001b[0m\u001b[0mj\u001b[0m\u001b[1;33m+\u001b[0m\u001b[1;36m1\u001b[0m\u001b[1;33m]\u001b[0m\u001b[1;33m)\u001b[0m\u001b[1;33m\u001b[0m\u001b[0m\n\u001b[0m\u001b[1;32m     12\u001b[0m \u001b[1;33m\u001b[0m\u001b[0m\n\u001b[1;32m     13\u001b[0m     \u001b[1;32mreturn\u001b[0m \u001b[0mf\u001b[0m\u001b[1;33m[\u001b[0m\u001b[1;36m0\u001b[0m\u001b[1;33m]\u001b[0m\u001b[1;33m\u001b[0m\u001b[0m\n",
      "\u001b[0;31mKeyboardInterrupt\u001b[0m: "
     ]
    }
   ],
   "source": [
    "import numpy as np\n",
    "\n",
    "Option = 'C'\n",
    "K = 100\n",
    "T = 1\n",
    "S0 = 100\n",
    "r = 0.05\n",
    "q = 0.04\n",
    "sigma = 0.2\n",
    "N = 10000\n",
    "Exercise = 'E'\n",
    "\n",
    "ans = Binomial(Option,K,T,S0,sigma,r,q,N,Exercise)\n",
    "\n",
    "print ans\n"
   ]
  },
  {
   "cell_type": "code",
   "execution_count": null,
   "metadata": {
    "collapsed": true
   },
   "outputs": [],
   "source": []
  }
 ],
 "metadata": {
  "anaconda-cloud": {},
  "kernelspec": {
   "display_name": "Python [conda root]",
   "language": "python",
   "name": "conda-root-py"
  },
  "language_info": {
   "codemirror_mode": {
    "name": "ipython",
    "version": 2
   },
   "file_extension": ".py",
   "mimetype": "text/x-python",
   "name": "python",
   "nbconvert_exporter": "python",
   "pygments_lexer": "ipython2",
   "version": "2.7.12"
  }
 },
 "nbformat": 4,
 "nbformat_minor": 1
}
